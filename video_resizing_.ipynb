{
  "nbformat": 4,
  "nbformat_minor": 0,
  "metadata": {
    "colab": {
      "provenance": [],
      "authorship_tag": "ABX9TyMsbZJcRPR6COBQI6jjU52J",
      "include_colab_link": true
    },
    "kernelspec": {
      "name": "python3",
      "display_name": "Python 3"
    },
    "language_info": {
      "name": "python"
    }
  },
  "cells": [
    {
      "cell_type": "markdown",
      "metadata": {
        "id": "view-in-github",
        "colab_type": "text"
      },
      "source": [
        "<a href=\"https://colab.research.google.com/github/Mastermrinal/video_reshaper/blob/main/video_resizing_.ipynb\" target=\"_parent\"><img src=\"https://colab.research.google.com/assets/colab-badge.svg\" alt=\"Open In Colab\"/></a>"
      ]
    },
    {
      "cell_type": "code",
      "execution_count": 1,
      "metadata": {
        "colab": {
          "base_uri": "https://localhost:8080/"
        },
        "id": "ti1DZhZekZS2",
        "outputId": "c79bd442-4747-44b6-c29a-3ffe151194ca"
      },
      "outputs": [
        {
          "output_type": "stream",
          "name": "stdout",
          "text": [
            "Resized video saved successfully.\n"
          ]
        }
      ],
      "source": [
        "import cv2\n",
        "\n",
        "# Input video path\n",
        "input_video_path = \"/content/2AF4BAEC-3285-4164-89A2-DE228591C787.mov\"\n",
        "\n",
        "# Output video path\n",
        "output_video_path = \"output_video.mp4\"\n",
        "\n",
        "# New width and height for resizing\n",
        "new_width = 640\n",
        "new_height = 480\n",
        "\n",
        "# Open the input video file\n",
        "input_video = cv2.VideoCapture(input_video_path)\n",
        "\n",
        "# Get the original video's width, height, and frames per second (fps)\n",
        "width = int(input_video.get(cv2.CAP_PROP_FRAME_WIDTH))\n",
        "height = int(input_video.get(cv2.CAP_PROP_FRAME_HEIGHT))\n",
        "fps = input_video.get(cv2.CAP_PROP_FPS)\n",
        "\n",
        "# Create a VideoWriter object to write the resized video\n",
        "fourcc = cv2.VideoWriter_fourcc(*\"mp4v\")\n",
        "output_video = cv2.VideoWriter(output_video_path, fourcc, fps, (new_width, new_height))\n",
        "\n",
        "# Read and resize each frame, then write to the output video\n",
        "while True:\n",
        "    ret, frame = input_video.read()\n",
        "    if not ret:\n",
        "        break\n",
        "\n",
        "    # Resize the frame\n",
        "    resized_frame = cv2.resize(frame, (new_width, new_height))\n",
        "\n",
        "    # Write the resized frame to the output video\n",
        "    output_video.write(resized_frame)\n",
        "\n",
        "# Release the video capture and writer objects\n",
        "input_video.release()\n",
        "output_video.release()\n",
        "\n",
        "# Close all windows\n",
        "cv2.destroyAllWindows()\n",
        "\n",
        "print(\"Resized video saved successfully.\")\n"
      ]
    },
    {
      "cell_type": "code",
      "source": [],
      "metadata": {
        "id": "w_PcKWqZlv4j"
      },
      "execution_count": null,
      "outputs": []
    }
  ]
}